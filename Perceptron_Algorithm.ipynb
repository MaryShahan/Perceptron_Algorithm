{
  "nbformat": 4,
  "nbformat_minor": 0,
  "metadata": {
    "colab": {
      "name": "Perceptron_Algorithm.ipynb",
      "provenance": [],
      "authorship_tag": "ABX9TyPaqJsmTIcVZvqOrGNff3iY",
      "include_colab_link": true
    },
    "kernelspec": {
      "name": "python3",
      "display_name": "Python 3"
    },
    "language_info": {
      "name": "python"
    }
  },
  "cells": [
    {
      "cell_type": "markdown",
      "metadata": {
        "id": "view-in-github",
        "colab_type": "text"
      },
      "source": [
        "<a href=\"https://colab.research.google.com/github/maryamshahani/Perceptron_Algorithm/blob/main/Perceptron_Algorithm.ipynb\" target=\"_parent\"><img src=\"https://colab.research.google.com/assets/colab-badge.svg\" alt=\"Open In Colab\"/></a>"
      ]
    },
    {
      "cell_type": "code",
      "execution_count": 4,
      "metadata": {
        "colab": {
          "base_uri": "https://localhost:8080/"
        },
        "id": "CkmyZr378orr",
        "outputId": "84b711ce-4bc8-41dd-fd9d-1bc3f12d5d56"
      },
      "outputs": [
        {
          "output_type": "stream",
          "name": "stdout",
          "text": [
            "0.04000000000000001\n",
            "0.19\n",
            "0.31\n",
            "0\n"
          ]
        }
      ],
      "source": [
        "x_input = [0.1, 0.5, 0.2]\n",
        "w_weights = [0.4, 0.3, 0.6]\n",
        "threshold = 0.5\n",
        "\n",
        "def step(weighted_sum):\n",
        "  if weighted_sum > threshold:\n",
        "    return 1\n",
        "  else:\n",
        "    return 0\n",
        "\n",
        "def perceptron():\n",
        "  weighted_sum = 0\n",
        "  for x,w in zip(x_input, w_weights):\n",
        "    weighted_sum += x*w\n",
        "    print(weighted_sum)\n",
        "  return step(weighted_sum)\n",
        "\n",
        "output = perceptron()\n",
        "print(output)\n"
      ]
    }
  ]
}